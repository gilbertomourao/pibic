{
 "cells": [
  {
   "cell_type": "markdown",
   "metadata": {},
   "source": [
    "# HoughLines Overlay"
   ]
  },
  {
   "cell_type": "code",
   "execution_count": 1,
   "metadata": {},
   "outputs": [
    {
     "data": {
      "application/javascript": [
       "\n",
       "require(['notebook/js/codecell'], function(codecell) {\n",
       "  codecell.CodeCell.options_default.highlight_modes[\n",
       "      'magic_text/x-csrc'] = {'reg':[/^%%microblaze/]};\n",
       "  Jupyter.notebook.events.one('kernel_ready.Kernel', function(){\n",
       "      Jupyter.notebook.get_cells().map(function(cell){\n",
       "          if (cell.cell_type == 'code'){ cell.auto_highlight(); } }) ;\n",
       "  });\n",
       "});\n"
      ]
     },
     "metadata": {},
     "output_type": "display_data"
    }
   ],
   "source": [
    "from webcam import WebcamVideoStream, FPS\n",
    "import cv2\n",
    "import numpy as np\n",
    "import time\n",
    "from hough import houghOverlay\n",
    "\n",
    "# loading the Overlay\n",
    "hw = houghOverlay('hwvhough2.bit')"
   ]
  },
  {
   "cell_type": "markdown",
   "metadata": {},
   "source": [
    "Configure and load the webcam."
   ]
  },
  {
   "cell_type": "code",
   "execution_count": 2,
   "metadata": {},
   "outputs": [
    {
     "name": "stdout",
     "output_type": "stream",
     "text": [
      "[INFO] sampling THREADED frames from webcam\n"
     ]
    }
   ],
   "source": [
    "# Some parameters to perform the simulation\n",
    "\n",
    "camera = 0\n",
    "iterations = 100\n",
    "\n",
    "print(\"[INFO] sampling THREADED frames from webcam\")\n",
    "vs = WebcamVideoStream(hw.frame, src=camera).start()"
   ]
  },
  {
   "cell_type": "code",
   "execution_count": 3,
   "metadata": {},
   "outputs": [
    {
     "name": "stdout",
     "output_type": "stream",
     "text": [
      "Hardware execution...\n",
      "[INFO] elapsed time: 0.66\n",
      "[INFO] approx. FPS: 152.51\n"
     ]
    }
   ],
   "source": [
    "# Hardware\n",
    "\n",
    "print('Hardware execution...')\n",
    "fps = FPS().start()\n",
    "\n",
    "while fps._numFrames < iterations:\n",
    "    [lines, segments] = hw.HoughLines(20,30,80,5,30)\n",
    "    fps.update()\n",
    "    \n",
    "fps.stop()\n",
    "print(\"[INFO] elapsed time: {:.2f}\".format(fps.elapsed()))\n",
    "print(\"[INFO] approx. FPS: {:.2f}\".format(fps.fps()))"
   ]
  },
  {
   "cell_type": "code",
   "execution_count": 4,
   "metadata": {},
   "outputs": [
    {
     "name": "stdout",
     "output_type": "stream",
     "text": [
      "Software execution...\n",
      "[INFO] elapsed time: 42.58\n",
      "[INFO] approx. FPS: 2.35\n"
     ]
    }
   ],
   "source": [
    "# Software\n",
    "\n",
    "frame = np.zeros((480, 640, 3), np.uint8)\n",
    "vs.frame = frame\n",
    "fps = FPS().start()\n",
    "print('Software execution...')\n",
    "\n",
    "def sw_houghlines(sw_frame):\n",
    "    gray = cv2.cvtColor(sw_frame, cv2.COLOR_BGR2GRAY)\n",
    "    blur = cv2.blur(gray, (3,3))\n",
    "    edges = cv2.Canny(blur, 20, 30, apertureSize = 3)\n",
    "    lines = cv2.HoughLines(edges, 1, np.pi/90, 80)\n",
    "    segments = cv2.HoughLinesP(edges, 1, np.pi/90, 80, 30, 5)\n",
    "    return [lines, segments]\n",
    "\n",
    "# DIP loop pipeline\n",
    "while fps._numFrames < iterations:\n",
    "    sw_frame = vs.read()\n",
    "    [lines, segments] = sw_houghlines(sw_frame)\n",
    "    fps.update()\n",
    "    \n",
    "fps.stop()\n",
    "print(\"[INFO] elapsed time: {:.2f}\".format(fps.elapsed()))\n",
    "print(\"[INFO] approx. FPS: {:.2f}\".format(fps.fps()))"
   ]
  },
  {
   "cell_type": "markdown",
   "metadata": {},
   "source": [
    "Turn off the camera."
   ]
  },
  {
   "cell_type": "code",
   "execution_count": 5,
   "metadata": {},
   "outputs": [],
   "source": [
    "vs.stop()"
   ]
  }
 ],
 "metadata": {
  "kernelspec": {
   "display_name": "Python 3",
   "language": "python",
   "name": "python3"
  },
  "language_info": {
   "codemirror_mode": {
    "name": "ipython",
    "version": 3
   },
   "file_extension": ".py",
   "mimetype": "text/x-python",
   "name": "python",
   "nbconvert_exporter": "python",
   "pygments_lexer": "ipython3",
   "version": "3.6.5"
  }
 },
 "nbformat": 4,
 "nbformat_minor": 2
}
